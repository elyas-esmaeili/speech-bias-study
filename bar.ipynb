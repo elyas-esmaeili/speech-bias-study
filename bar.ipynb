{
  "nbformat": 4,
  "nbformat_minor": 0,
  "metadata": {
    "colab": {
      "provenance": []
    },
    "kernelspec": {
      "name": "python3",
      "display_name": "Python 3"
    },
    "language_info": {
      "name": "python"
    }
  },
  "cells": [
    {
      "cell_type": "code",
      "execution_count": null,
      "metadata": {
        "id": "sJY-MbRlO93V"
      },
      "outputs": [],
      "source": [
        "import pandas as pd"
      ]
    },
    {
      "cell_type": "code",
      "source": [
        "filler_words_df = pd.read_excel(\"/content/filler_words_count_all_ASR_Elyas.xlsx\")\n",
        "repetition_df = pd.read_excel(\"/content/repetition_count_all_ASR_Elyas.xlsx\")\n",
        "pnoun_df = pd.read_excel(\"/content/proper_noun_count_all_ASR_Elyas.xlsx\")"
      ],
      "metadata": {
        "id": "DL3r-FsbPN9g"
      },
      "execution_count": null,
      "outputs": []
    },
    {
      "cell_type": "code",
      "source": [
        "pnoun_df.columns"
      ],
      "metadata": {
        "colab": {
          "base_uri": "https://localhost:8080/"
        },
        "id": "tOLWhLC-PW_2",
        "outputId": "98e2516f-9dd8-4f6e-c591-9d65a0e4fa7b"
      },
      "execution_count": null,
      "outputs": [
        {
          "output_type": "execute_result",
          "data": {
            "text/plain": [
              "Index(['Fake_id', 'race', 'manual_medical_terms_count',\n",
              "       'manual_medical_terms_list', 'manual_non_medical_terms_count',\n",
              "       'manual_non_medical_terms_list', 'aws_medical_terms_count',\n",
              "       'aws_medical_terms_list', 'aws_non_medical_terms_count',\n",
              "       'aws_non_medical_terms_list', 'aws_med_medical_terms_count',\n",
              "       'aws_med_medical_terms_list', 'aws_med_non_medical_terms_count',\n",
              "       'aws_med_non_medical_terms_list', 'whisper_medical_terms_count',\n",
              "       'whisper_medical_terms_list', 'whisper_non_medical_terms_count',\n",
              "       'whisper_non_medical_terms_list', 'manual_pn_count', 'aws_pn_count',\n",
              "       'whisper_pn_count', 'aws_med_pn_count', 'manual_pn_list', 'aws_pn_list',\n",
              "       'whisper_pn_list', 'aws_med_pn_list'],\n",
              "      dtype='object')"
            ]
          },
          "metadata": {},
          "execution_count": 6
        }
      ]
    },
    {
      "cell_type": "code",
      "source": [
        "asr_name = \"aws_med_non_medical_terms_count\"\n",
        "manual_name = \"manual_non_medical_terms_count\"\n",
        "asr_name2 = \"aws_med_medical_terms_count\"\n",
        "manual_name2 = \"manual_medical_terms_count\"\n",
        "\n",
        "df = pnoun_df\n",
        "\n",
        "a = df[(df[asr_name] + df[asr_name2] == 0) & (df[manual_name] + df[manual_name2] == 0)]\n",
        "b = df[(df[asr_name] + df[asr_name2] == df[manual_name] + df[manual_name2]) & (df[manual_name] + df[manual_name2] != 0)]\n",
        "c = df[df[asr_name] + df[asr_name2] < df[manual_name] + df[manual_name2]]\n",
        "d = df[df[asr_name] + df[asr_name2] > df[manual_name] + df[manual_name2]]\n"
      ],
      "metadata": {
        "id": "IwuVa_zfPYvY"
      },
      "execution_count": null,
      "outputs": []
    },
    {
      "cell_type": "code",
      "source": [
        "print(len(a), len(b), len(c), len(d))\n",
        "print(len(a) + len(b) + len(c) + len(d))"
      ],
      "metadata": {
        "colab": {
          "base_uri": "https://localhost:8080/"
        },
        "id": "81yuP-uSPuGi",
        "outputId": "e4fdd725-52f0-475f-abec-9a653c6816e2"
      },
      "execution_count": null,
      "outputs": [
        {
          "output_type": "stream",
          "name": "stdout",
          "text": [
            "806 23 29 6\n",
            "864\n"
          ]
        }
      ]
    },
    {
      "cell_type": "code",
      "source": [
        "def error_rate(df, df_race, manual_col, asr_col):\n",
        "    total = ((df[manual_col] > 0) | (df[asr_col] > 0)).sum()\n",
        "    print(total)\n",
        "    manual_count = df_race[manual_col]\n",
        "    asr_count = df_race[asr_col]\n",
        "    errors = (manual_count - asr_count).abs() / pd.concat([manual_count, asr_count], axis=1).max(axis=1)\n",
        "    errors = errors.fillna(0)\n",
        "    return errors.sum() / total"
      ],
      "metadata": {
        "id": "zP7Kx7LrQOYL"
      },
      "execution_count": null,
      "outputs": []
    },
    {
      "cell_type": "code",
      "source": [
        "# df = pnoun_agg_df\n",
        "df_race = df.query(\"race=='White'\")\n",
        "error_rate(df, df_race, manual_name, asr_name)\n"
      ],
      "metadata": {
        "colab": {
          "base_uri": "https://localhost:8080/"
        },
        "id": "UVYSQ_4QZ_sZ",
        "outputId": "33e84ce5-2b85-4601-f8b6-b30d9f959cc9"
      },
      "execution_count": null,
      "outputs": [
        {
          "output_type": "stream",
          "name": "stdout",
          "text": [
            "40\n"
          ]
        },
        {
          "output_type": "execute_result",
          "data": {
            "text/plain": [
              "0.4"
            ]
          },
          "metadata": {},
          "execution_count": 57
        }
      ]
    },
    {
      "cell_type": "code",
      "source": [
        "pnon_non_medical = {\n",
        "    \"AWS GT\" : {\"Black\": 0.228, \"White\": 0.30},\n",
        "    \"AWS Medical\": {\"Black\": 0.23, \"White\": 0.4}\n",
        "}\n",
        "\n",
        "pnouns_medical = {\n",
        "    \"AWS GT\" : {\"Black\": 0.277, \"White\": 0.33},\n",
        "    \"AWS Medical\": {\"Black\": 0.142, \"White\": 0.32}\n",
        "}"
      ],
      "metadata": {
        "id": "iSsSvH_nRNpf"
      },
      "execution_count": null,
      "outputs": []
    },
    {
      "cell_type": "code",
      "source": [
        "pnoun_agg_df = pd.DataFrame()"
      ],
      "metadata": {
        "id": "jCgYYaXafr_D"
      },
      "execution_count": null,
      "outputs": []
    },
    {
      "cell_type": "code",
      "source": [
        "pnoun_agg_df[\"manual\"] = pnoun_df[\"manual_medical_terms_count\"] + pnoun_df[\"manual_non_medical_terms_count\"]\n",
        "pnoun_agg_df[\"gt\"] =  pnoun_df[\"aws_medical_terms_count\"] + pnoun_df[\"aws_non_medical_terms_count\"]\n",
        "pnoun_agg_df[\"medical\"] =  pnoun_df[\"aws_med_medical_terms_count\"] + pnoun_df[\"aws_med_non_medical_terms_count\"]\n",
        "pnoun_agg_df[\"race\"] = pnoun_df[\"race\"]"
      ],
      "metadata": {
        "id": "UyMreUKKdFL9"
      },
      "execution_count": null,
      "outputs": []
    },
    {
      "cell_type": "code",
      "source": [
        "pnoun_df.columns"
      ],
      "metadata": {
        "colab": {
          "base_uri": "https://localhost:8080/"
        },
        "id": "xsJC0aircoRN",
        "outputId": "834fb88b-e28c-4082-b9b1-cddd205246c4"
      },
      "execution_count": null,
      "outputs": [
        {
          "output_type": "execute_result",
          "data": {
            "text/plain": [
              "Index(['Fake_id', 'race', 'manual_medical_terms_count',\n",
              "       'manual_medical_terms_list', 'manual_non_medical_terms_count',\n",
              "       'manual_non_medical_terms_list', 'aws_medical_terms_count',\n",
              "       'aws_medical_terms_list', 'aws_non_medical_terms_count',\n",
              "       'aws_non_medical_terms_list', 'aws_med_medical_terms_count',\n",
              "       'aws_med_medical_terms_list', 'aws_med_non_medical_terms_count',\n",
              "       'aws_med_non_medical_terms_list', 'whisper_medical_terms_count',\n",
              "       'whisper_medical_terms_list', 'whisper_non_medical_terms_count',\n",
              "       'whisper_non_medical_terms_list', 'manual_pn_count', 'aws_pn_count',\n",
              "       'whisper_pn_count', 'aws_med_pn_count', 'manual_pn_list', 'aws_pn_list',\n",
              "       'whisper_pn_list', 'aws_med_pn_list'],\n",
              "      dtype='object')"
            ]
          },
          "metadata": {},
          "execution_count": 132
        }
      ]
    },
    {
      "cell_type": "markdown",
      "source": [
        "Repetition:\n",
        "AWS total: 0.6373389355742296\n"
      ],
      "metadata": {
        "id": "AQWZKD_0dnT7"
      }
    },
    {
      "cell_type": "code",
      "source": [
        "groups = [\"Repetition\", \"Filler Words\", \"Proper Nouns\"]\n",
        "repetition = {\n",
        "    \"AWS General\" : {\"Black\": 0.396, \"White\": 0.240},\n",
        "    \"AWS Medical\": {\"Black\": 0.432, \"White\": 0.264}\n",
        "}\n",
        "\n",
        "filler_words = {\n",
        "    \"AWS General\" : {\"Black\": 0.322, \"White\": 0.333},\n",
        "    \"AWS Medical\": {\"Black\": 0.417, \"White\": 0.320}\n",
        "}\n",
        "\n",
        "# pnouns = {\n",
        "#     \"AWS GT\" : {\"Black\": 0.253, \"White\": 0.299},\n",
        "#     \"AWS Medical\": {\"Black\": 0.209, \"White\": 0.356}\n",
        "# }\n",
        "\n",
        "pnon_non_medical = {\n",
        "    \"AWS General\" : {\"Black\": 0.228, \"White\": 0.30},\n",
        "    \"AWS Medical\": {\"Black\": 0.23, \"White\": 0.4}\n",
        "}\n",
        "\n",
        "pnouns_medical = {\n",
        "    \"AWS General\" : {\"Black\": 0.277, \"White\": 0.33},\n",
        "    \"AWS Medical\": {\"Black\": 0.142, \"White\": 0.32}\n",
        "}"
      ],
      "metadata": {
        "id": "TT3nEx8NZ8Er"
      },
      "execution_count": null,
      "outputs": []
    },
    {
      "cell_type": "code",
      "source": [
        "import matplotlib.pyplot as plt\n",
        "import numpy as np\n",
        "\n",
        "X = np.arange(4)\n",
        "\n",
        "values1 = [filler_words[\"AWS General\"][\"Black\"], repetition[\"AWS General\"][\"Black\"], pnon_non_medical[\"AWS General\"][\"Black\"], pnouns_medical[\"AWS General\"][\"Black\"]]\n",
        "values2 = [filler_words[\"AWS General\"][\"White\"], repetition[\"AWS General\"][\"White\"], pnon_non_medical[\"AWS General\"][\"White\"], pnouns_medical[\"AWS General\"][\"White\"]]\n",
        "values3 = [filler_words[\"AWS Medical\"][\"Black\"], repetition[\"AWS Medical\"][\"Black\"], pnon_non_medical[\"AWS Medical\"][\"Black\"], pnouns_medical[\"AWS Medical\"][\"Black\"]]\n",
        "values4 = [filler_words[\"AWS Medical\"][\"White\"], repetition[\"AWS Medical\"][\"White\"], pnon_non_medical[\"AWS Medical\"][\"White\"], pnouns_medical[\"AWS Medical\"][\"White\"]]\n",
        "\n",
        "\n",
        "fig, ax = plt.subplots()\n",
        "\n",
        "# Stacked bar chart\n",
        "ax.bar(X, values1, width=0.25, color=\"#44a5c2\", edgecolor = \"black\", linewidth = 0.5, label=\"Black\")\n",
        "ax.bar(X, values2, bottom = values1, width=0.25, color=\"#ffae49\", edgecolor = \"black\", linewidth = 0.5, label=\"White\")\n",
        "ax.bar(X+0.265, values3, width=0.25, color=\"#44a5c2\", edgecolor = \"black\", linewidth = 0.5)\n",
        "ax.bar(X+0.265, values4, bottom=values3, width=0.25, color=\"#ffae49\", edgecolor = \"black\", linewidth = 0.5)\n",
        "\n",
        "\n",
        "category_positions = X + 0.125\n",
        "categories = [\"Filler Words\", \"Repetition\", \"Non-Medical terms\\n(Proper Nouns)\", \"Medical terms\\n(Proper Nouns)\"]\n",
        "for pos, label in zip(category_positions, categories):\n",
        "    # Here we slightly adjust the vertical position to accommodate the rotated primary labels\n",
        "    ax.text(pos, -0.20, label, ha='center', va='top', transform=ax.get_xaxis_transform(), fontsize=8)\n",
        "\n",
        "\n",
        "for bar in ax.patches:\n",
        "  ax.text(bar.get_x() + bar.get_width() / 2,\n",
        "          bar.get_height() / 2 + bar.get_y(),\n",
        "          round(bar.get_height(), 2), ha = 'center',\n",
        "          color = 'w', size=8)\n",
        "\n",
        "total_values = np.add(np.round(values1, 2), np.round(values2, 2))\n",
        "for i, total in enumerate(total_values):\n",
        "  ax.text(i, total + 0.02, round(total, 2),\n",
        "          ha = 'center', color = 'black', size=8, weight=\"bold\")\n",
        "\n",
        "total_values = np.add(np.round(values3, 2), np.round(values4, 2))\n",
        "for i, total in enumerate(total_values):\n",
        "  ax.text(i+0.25, total + 0.02, round(total, 2),\n",
        "          ha = 'center', color = 'black', size=8, weight=\"bold\")\n",
        "\n",
        "ax.set_ylim([0, 1])\n",
        "# plt.xticks([0.125, 1.125, 2.125, 2.5, 2.75, 3], [\"AWS GT\", \"AWS Medical\"]*3, minor=True)\n",
        "plt.xticks(np.array([0, 0.265, 1, 1.265, 2, 2.265, 3, 3.265]), [\"AWS General\", \"AWS Medical\"]*4, minor=False, rotation=90, fontsize=4)\n",
        "ax.xaxis.remove_overlapping_locs = False\n",
        "\n",
        "plt.legend()\n",
        "_ = plt.yticks(fontsize=8)\n",
        "_ = plt.xticks(fontsize=6)\n",
        "\n",
        "ax.set_ylabel('Error Rate', fontsize=8)\n",
        "\n",
        "\n",
        "\n",
        "\n",
        "# plt.show()\n",
        "\n",
        "\n",
        "\n"
      ],
      "metadata": {
        "colab": {
          "base_uri": "https://localhost:8080/",
          "height": 523
        },
        "id": "ojRJEG2ciquc",
        "outputId": "d2821720-fd5b-495b-dc5b-5d5fef18156b"
      },
      "execution_count": null,
      "outputs": [
        {
          "output_type": "execute_result",
          "data": {
            "text/plain": [
              "Text(0, 0.5, 'Error Rate')"
            ]
          },
          "metadata": {},
          "execution_count": 5
        },
        {
          "output_type": "display_data",
          "data": {
            "text/plain": [
              "<Figure size 640x480 with 1 Axes>"
            ],
            "image/png": "[encoded data removed]"
          },
          "metadata": {}
        }
      ]
    },
    {
      "cell_type": "code",
      "source": [
        "fig.savefig(\"bar.jpg\", bbox_inches='tight', dpi=600)"
      ],
      "metadata": {
        "id": "d_AYIT6xv6oe"
      },
      "execution_count": null,
      "outputs": []
    },
    {
      "cell_type": "code",
      "source": [],
      "metadata": {
        "id": "6GPRIXJEgYLA"
      },
      "execution_count": null,
      "outputs": []
    }
  ]
}